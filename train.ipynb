{
 "cells": [
  {
   "cell_type": "markdown",
   "metadata": {},
   "source": [
    "# Assignment 2\n",
    "## Training and testing\n",
    "### Muhammed Jassim\n",
    "### MDS202220"
   ]
  },
  {
   "cell_type": "markdown",
   "metadata": {},
   "source": [
    "### Importing Libraries"
   ]
  },
  {
   "cell_type": "code",
   "execution_count": 9,
   "metadata": {},
   "outputs": [],
   "source": [
    "import pandas as pd\n",
    "from sklearn.ensemble import RandomForestClassifier\n",
    "from sklearn.naive_bayes import MultinomialNB\n",
    "from sklearn.linear_model import LogisticRegression\n",
    "from sklearn.feature_extraction.text import TfidfVectorizer, CountVectorizer\n",
    "from sklearn.pipeline import Pipeline\n",
    "from sklearn.metrics import average_precision_score, accuracy_score\n",
    "import mlflow\n",
    "import mlflow.sklearn\n",
    "from mlflow.tracking import MlflowClient"
   ]
  },
  {
   "cell_type": "markdown",
   "metadata": {},
   "source": [
    "### Load, Vectorize and split data"
   ]
  },
  {
   "cell_type": "code",
   "execution_count": 10,
   "metadata": {},
   "outputs": [],
   "source": [
    "# Load train, validation, and test data\n",
    "train_data = pd.read_csv('./data/train.csv')\n",
    "validation_data = pd.read_csv('./data/validation.csv')\n",
    "test_data = pd.read_csv('./data/test.csv')\n",
    "\n",
    "# Initializing the vectorizer\n",
    "# vectorizer = CountVectorizer()\n",
    "vectorizer = TfidfVectorizer()\n",
    "\n",
    "# Extract features and target variable\n",
    "X_train, y_train = vectorizer.fit_transform(train_data['text']), train_data['spam']\n",
    "X_val, y_val = vectorizer.transform(validation_data['text']), validation_data['spam']\n",
    "X_test, y_test = vectorizer.transform(test_data['text']), test_data['spam']"
   ]
  },
  {
   "cell_type": "markdown",
   "metadata": {},
   "source": [
    "### Declare the benchmark model names"
   ]
  },
  {
   "cell_type": "code",
   "execution_count": 11,
   "metadata": {},
   "outputs": [],
   "source": [
    "models = {\n",
    "    \"random_forest\" : RandomForestClassifier,\n",
    "    \"naive_bayes\" : MultinomialNB,\n",
    "    \"log_regression\" : LogisticRegression \n",
    "}"
   ]
  },
  {
   "cell_type": "markdown",
   "metadata": {},
   "source": [
    "### Define `mlflow` tracking function"
   ]
  },
  {
   "cell_type": "code",
   "execution_count": 12,
   "metadata": {},
   "outputs": [],
   "source": [
    "def track_mlflow(model_name, x_train, y_train, x_val, y_val):\n",
    "    with mlflow.start_run(run_name=model_name):\n",
    "        print(f\"Starting {model_name} run\")\n",
    "\n",
    "        # Fitting the model\n",
    "        model = models[model_name]()\n",
    "        model.fit(x_train, y_train)\n",
    "        y_pred = model.predict(x_val)\n",
    "        model_results = {\n",
    "            'accuracy' : accuracy_score(y_val, y_pred),\n",
    "            'aucpr' : average_precision_score(y_val, y_pred)\n",
    "        }\n",
    "        print(f\"{model_name} performance:\\n {model_results}\")\n",
    "\n",
    "        # Logging model parameters\n",
    "        mlflow.log_params(model.get_params())\n",
    "\n",
    "        # Logging model performance metrics\n",
    "        for metric, value in model_results.items():\n",
    "            mlflow.log_metric(f\"{model_name}_{metric}\", value)\n",
    "        \n",
    "        # Logging the model\n",
    "        client = MlflowClient()\n",
    "        mlflow.sklearn.log_model(model, model_name)\n",
    "\n",
    "        curr_run_id = mlflow.active_run().info.run_id\n",
    "        model_uri = f\"runs:/{curr_run_id}/{model_name}\"\n",
    "\n",
    "        try:\n",
    "            client.create_registered_model(model_name)\n",
    "        except Exception:\n",
    "            print(f\"A model named {model_name} is already registered.\")\n",
    "        \n",
    "        model_details = client.create_model_version(model_name, model_uri, curr_run_id)\n",
    "        print(f\">>> Model {model_name} (version {model_details.version}) has been registered.\")"
   ]
  },
  {
   "cell_type": "markdown",
   "metadata": {},
   "source": [
    "### Random Forest Classifier"
   ]
  },
  {
   "cell_type": "code",
   "execution_count": 13,
   "metadata": {},
   "outputs": [
    {
     "name": "stdout",
     "output_type": "stream",
     "text": [
      "Starting random_forest run\n",
      "random_forest performance:\n",
      " {'accuracy': 0.9705561613958561, 'aucpr': 0.901481753296087}\n",
      "A model named random_forest is already registered.\n",
      ">>> Model random_forest (version 2) has been registered.\n"
     ]
    }
   ],
   "source": [
    "track_mlflow('random_forest', X_train, y_train, X_val, y_val)"
   ]
  },
  {
   "cell_type": "markdown",
   "metadata": {},
   "source": [
    "### Multinomial Naive Bayes"
   ]
  },
  {
   "cell_type": "code",
   "execution_count": 14,
   "metadata": {},
   "outputs": [
    {
     "name": "stdout",
     "output_type": "stream",
     "text": [
      "Starting naive_bayes run\n",
      "naive_bayes performance:\n",
      " {'accuracy': 0.88113413304253, 'aucpr': 0.6022781892323515}\n",
      "A model named naive_bayes is already registered.\n",
      ">>> Model naive_bayes (version 2) has been registered.\n"
     ]
    }
   ],
   "source": [
    "track_mlflow('naive_bayes', X_train, y_train, X_val, y_val)"
   ]
  },
  {
   "cell_type": "markdown",
   "metadata": {},
   "source": [
    "### Logistic Regression"
   ]
  },
  {
   "cell_type": "code",
   "execution_count": 15,
   "metadata": {},
   "outputs": [
    {
     "name": "stdout",
     "output_type": "stream",
     "text": [
      "Starting log_regression run\n",
      "log_regression performance:\n",
      " {'accuracy': 0.9738276990185387, 'aucpr': 0.910346453190559}\n",
      "A model named log_regression is already registered.\n",
      ">>> Model log_regression (version 2) has been registered.\n"
     ]
    }
   ],
   "source": [
    "track_mlflow('log_regression', X_train, y_train, X_val, y_val)"
   ]
  },
  {
   "cell_type": "markdown",
   "metadata": {},
   "source": [
    "### Testing on Test dataset"
   ]
  },
  {
   "cell_type": "code",
   "execution_count": 18,
   "metadata": {},
   "outputs": [
    {
     "name": "stdout",
     "output_type": "stream",
     "text": [
      "Logistic Regression performance on text data: \n",
      "{'accuracy': 0.9729493891797557, 'aucpr': 0.9111268013133108}\n"
     ]
    }
   ],
   "source": [
    "model = LogisticRegression()\n",
    "model.fit(X_train, y_train)\n",
    "y_pred = model.predict(X_test)\n",
    "model_results = {\n",
    "    'accuracy' : accuracy_score(y_test, y_pred),\n",
    "    'aucpr' : average_precision_score(y_test, y_pred)\n",
    "    }\n",
    "print(f\"Logistic Regression performance on text data: \\n{model_results}\")"
   ]
  },
  {
   "cell_type": "markdown",
   "metadata": {},
   "source": [
    "After conducting experiments on our dataset, we observed that the *Logistic Regression model* outperformed both the *Multinomial Naive Bayes* and *Random Forest model*. The AUC-PR values achieved of the models were:\n",
    "* Random Forest Classifier : $0.901481753296087$\n",
    "* Multinomial Naive Bayes : $0.6022781892323515$\n",
    "* Logistic Regression : $0.910346453190559$\n",
    "\n",
    "This indicates that the *Logistic Regression* algorithm is more effective in capturing the complexities of the data and providing better predictive performance, particularly in the context of AUC-PR, a critical metric for imbalanced classification tasks. The performance metrics of this model on the test set is given below:\n",
    "* Accuracy : $0.9729493891797557$\n",
    "* AUC-PR : $0.9111268013133108$"
   ]
  }
 ],
 "metadata": {
  "kernelspec": {
   "display_name": "cmi",
   "language": "python",
   "name": "python3"
  },
  "language_info": {
   "codemirror_mode": {
    "name": "ipython",
    "version": 3
   },
   "file_extension": ".py",
   "mimetype": "text/x-python",
   "name": "python",
   "nbconvert_exporter": "python",
   "pygments_lexer": "ipython3",
   "version": "3.10.11"
  }
 },
 "nbformat": 4,
 "nbformat_minor": 2
}
