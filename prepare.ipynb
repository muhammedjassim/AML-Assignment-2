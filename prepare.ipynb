{
 "cells": [
  {
   "cell_type": "markdown",
   "metadata": {},
   "source": [
    "# Assignment 2\n",
    "## Preparation\n",
    "### Muhammed Jassim\n",
    "### MDS202220"
   ]
  },
  {
   "cell_type": "code",
   "execution_count": 1,
   "metadata": {},
   "outputs": [],
   "source": [
    "import pandas as pd\n",
    "\n",
    "import string\n",
    "from nltk.corpus import stopwords\n",
    "from nltk.tokenize import  word_tokenize\n",
    "from nltk.stem import PorterStemmer\n",
    "\n",
    "from sklearn.model_selection import train_test_split\n",
    "\n",
    "from prettytable import PrettyTable"
   ]
  },
  {
   "cell_type": "markdown",
   "metadata": {},
   "source": [
    "### Loading data"
   ]
  },
  {
   "cell_type": "code",
   "execution_count": 2,
   "metadata": {},
   "outputs": [
    {
     "data": {
      "text/html": [
       "<div>\n",
       "<style scoped>\n",
       "    .dataframe tbody tr th:only-of-type {\n",
       "        vertical-align: middle;\n",
       "    }\n",
       "\n",
       "    .dataframe tbody tr th {\n",
       "        vertical-align: top;\n",
       "    }\n",
       "\n",
       "    .dataframe thead th {\n",
       "        text-align: right;\n",
       "    }\n",
       "</style>\n",
       "<table border=\"1\" class=\"dataframe\">\n",
       "  <thead>\n",
       "    <tr style=\"text-align: right;\">\n",
       "      <th></th>\n",
       "      <th>text</th>\n",
       "      <th>spam</th>\n",
       "    </tr>\n",
       "  </thead>\n",
       "  <tbody>\n",
       "    <tr>\n",
       "      <th>0</th>\n",
       "      <td>Subject: naturally irresistible your corporate...</td>\n",
       "      <td>1</td>\n",
       "    </tr>\n",
       "    <tr>\n",
       "      <th>1</th>\n",
       "      <td>Subject: the stock trading gunslinger  fanny i...</td>\n",
       "      <td>1</td>\n",
       "    </tr>\n",
       "    <tr>\n",
       "      <th>2</th>\n",
       "      <td>Subject: unbelievable new homes made easy  im ...</td>\n",
       "      <td>1</td>\n",
       "    </tr>\n",
       "    <tr>\n",
       "      <th>3</th>\n",
       "      <td>Subject: 4 color printing special  request add...</td>\n",
       "      <td>1</td>\n",
       "    </tr>\n",
       "    <tr>\n",
       "      <th>4</th>\n",
       "      <td>Subject: do not have money , get software cds ...</td>\n",
       "      <td>1</td>\n",
       "    </tr>\n",
       "    <tr>\n",
       "      <th>5</th>\n",
       "      <td>Subject: great nnews  hello , welcome to medzo...</td>\n",
       "      <td>1</td>\n",
       "    </tr>\n",
       "    <tr>\n",
       "      <th>6</th>\n",
       "      <td>Subject: here ' s a hot play in motion  homela...</td>\n",
       "      <td>1</td>\n",
       "    </tr>\n",
       "    <tr>\n",
       "      <th>7</th>\n",
       "      <td>Subject: save your money buy getting this thin...</td>\n",
       "      <td>1</td>\n",
       "    </tr>\n",
       "    <tr>\n",
       "      <th>8</th>\n",
       "      <td>Subject: undeliverable : home based business f...</td>\n",
       "      <td>1</td>\n",
       "    </tr>\n",
       "    <tr>\n",
       "      <th>9</th>\n",
       "      <td>Subject: save your money buy getting this thin...</td>\n",
       "      <td>1</td>\n",
       "    </tr>\n",
       "  </tbody>\n",
       "</table>\n",
       "</div>"
      ],
      "text/plain": [
       "                                                text  spam\n",
       "0  Subject: naturally irresistible your corporate...     1\n",
       "1  Subject: the stock trading gunslinger  fanny i...     1\n",
       "2  Subject: unbelievable new homes made easy  im ...     1\n",
       "3  Subject: 4 color printing special  request add...     1\n",
       "4  Subject: do not have money , get software cds ...     1\n",
       "5  Subject: great nnews  hello , welcome to medzo...     1\n",
       "6  Subject: here ' s a hot play in motion  homela...     1\n",
       "7  Subject: save your money buy getting this thin...     1\n",
       "8  Subject: undeliverable : home based business f...     1\n",
       "9  Subject: save your money buy getting this thin...     1"
      ]
     },
     "execution_count": 2,
     "metadata": {},
     "output_type": "execute_result"
    }
   ],
   "source": [
    "def load_data(file_path):\n",
    "    data = pd.read_csv(file_path)\n",
    "    return data\n",
    "\n",
    "data = load_data('./data/emails.csv')\n",
    "data.head(10)"
   ]
  },
  {
   "cell_type": "markdown",
   "metadata": {},
   "source": [
    "### Preprocessing"
   ]
  },
  {
   "cell_type": "code",
   "execution_count": 3,
   "metadata": {},
   "outputs": [],
   "source": [
    "def preprocess_data(data):\n",
    "    data['text'] = data['text'].apply(lambda x: x.lower())  # lowercasing\n",
    "    data['text'] = data['text'].apply(lambda x: x.translate(str.maketrans('', '', string.punctuation))) # punctuation removal\n",
    "    data['text'] = data['text'].apply(lambda x: word_tokenize(x))   # tokenization\n",
    "    stop_words = set(stopwords.words('english'))\n",
    "    data['text'] = data['text'].apply(lambda tokens: [token for token in tokens if token not in stop_words])    # stop-word removal\n",
    "    stemmer = PorterStemmer()\n",
    "    data['text'] = data['text'].apply(lambda tokens: [stemmer.stem(token) for token in tokens]) # stemming\n",
    "    data['text'] = data['text'].apply(lambda tokens: ' '.join(tokens))  # joining preprocessed tokens to form text\n",
    "\n",
    "    return data\n",
    "\n",
    "data = preprocess_data(data)"
   ]
  },
  {
   "cell_type": "markdown",
   "metadata": {},
   "source": [
    "### Train/validation/test splitting"
   ]
  },
  {
   "cell_type": "code",
   "execution_count": 4,
   "metadata": {},
   "outputs": [],
   "source": [
    "def split_data(data, rand_state):\n",
    "    train, test = train_test_split(data, test_size=0.2, random_state=rand_state)\n",
    "    train, validation = train_test_split(train, test_size=0.2, random_state=rand_state)\n",
    "    return train, validation, test\n",
    "\n",
    "train, validation, test = split_data(data, 42)"
   ]
  },
  {
   "cell_type": "markdown",
   "metadata": {},
   "source": [
    "### Storing split data"
   ]
  },
  {
   "cell_type": "code",
   "execution_count": 5,
   "metadata": {},
   "outputs": [],
   "source": [
    "def store_splits(train, validation, test):\n",
    "    train.to_csv('./data/train.csv', index=False)\n",
    "    validation.to_csv('./data/validation.csv', index=False)\n",
    "    test.to_csv('./data/test.csv', index=False)\n",
    "\n",
    "store_splits(train, validation, test)"
   ]
  },
  {
   "cell_type": "markdown",
   "metadata": {},
   "source": [
    "Now we have saved the train, validation and test data into seperate `.csv` files in the `data\\` folder."
   ]
  },
  {
   "cell_type": "markdown",
   "metadata": {},
   "source": [
    "### Implementing GIT"
   ]
  },
  {
   "cell_type": "code",
   "execution_count": 6,
   "metadata": {},
   "outputs": [
    {
     "name": "stdout",
     "output_type": "stream",
     "text": [
      "Initialized DVC repository.\n",
      "\n",
      "+---------------------------------------------------------------------+\n",
      "|                                                                     |\n",
      "|        DVC has enabled anonymous aggregate usage analytics.         |\n",
      "|     Read the analytics documentation (and how to opt-out) here:     |\n",
      "|             <https://dvc.org/doc/user-guide/analytics>              |\n",
      "|                                                                     |\n",
      "+---------------------------------------------------------------------+\n",
      "\n",
      "What's next?\n",
      "------------\n",
      "- Check out the documentation: <https://dvc.org/doc>\n",
      "- Get help and share ideas: <https://dvc.org/chat>\n",
      "- Star us on GitHub: <https://github.com/iterative/dvc>\n",
      "Initialized empty Git repository in E:/Post Graduation/Semester 4/Applied Machine Learning/Assignments/Assignment 2/.git/\n"
     ]
    }
   ],
   "source": [
    "!dvc init --no-scm --f\n",
    "!git init"
   ]
  },
  {
   "cell_type": "markdown",
   "metadata": {},
   "source": [
    "### Track files with DVC"
   ]
  },
  {
   "cell_type": "code",
   "execution_count": 7,
   "metadata": {},
   "outputs": [
    {
     "name": "stderr",
     "output_type": "stream",
     "text": [
      "warning: LF will be replaced by CRLF in data/emails.csv.\n",
      "The file will have its original line endings in your working directory\n"
     ]
    }
   ],
   "source": [
    "# !git add \"E:\\Post Graduation\\Semester 4\\Applied Machine Learning\\Assignments\\Assignment 2\\data\\emails.csv\" \"E:\\Post Graduation\\Semester 4\\Applied Machine Learning\\Assignments\\Assignment 2\\data\\\\train.csv\" \"E:\\Post Graduation\\Semester 4\\Applied Machine Learning\\Assignments\\Assignment 2\\data\\\\validation.csv\" \"E:\\Post Graduation\\Semester 4\\Applied Machine Learning\\Assignments\\Assignment 2\\data\\\\test.csv\"\n",
    "!git add \".\\data\\emails.csv\" \".\\data\\\\train.csv\" \".\\data\\\\validation.csv\" \".\\data\\\\test.csv\""
   ]
  },
  {
   "cell_type": "code",
   "execution_count": 8,
   "metadata": {},
   "outputs": [
    {
     "name": "stdout",
     "output_type": "stream",
     "text": [
      "[master (root-commit) 39c7f28] Add raw data, train, test and validation data after splitting\n",
      " 4 files changed, 11460 insertions(+)\n",
      " create mode 100644 data/emails.csv\n",
      " create mode 100644 data/test.csv\n",
      " create mode 100644 data/train.csv\n",
      " create mode 100644 data/validation.csv\n"
     ]
    }
   ],
   "source": [
    "!git commit -m \"Add raw data, train, test and validation data after splitting\""
   ]
  },
  {
   "cell_type": "code",
   "execution_count": 9,
   "metadata": {},
   "outputs": [
    {
     "name": "stdout",
     "output_type": "stream",
     "text": [
      "On branch master\n",
      "Untracked files:\n",
      "  (use \"git add <file>...\" to include in what will be committed)\n",
      "\t.dvc/\n",
      "\t.dvcignore\n",
      "\tprepare.ipynb\n",
      "\ttrain.ipynb\n",
      "\n",
      "nothing added to commit but untracked files present (use \"git add\" to track)\n"
     ]
    }
   ],
   "source": [
    "!git status"
   ]
  },
  {
   "cell_type": "markdown",
   "metadata": {},
   "source": [
    "### Splitting data with a different random seed"
   ]
  },
  {
   "cell_type": "code",
   "execution_count": 10,
   "metadata": {},
   "outputs": [],
   "source": [
    "train, validation, test = split_data(data, 21)"
   ]
  },
  {
   "cell_type": "code",
   "execution_count": 11,
   "metadata": {},
   "outputs": [],
   "source": [
    "store_splits(train, validation, test)"
   ]
  },
  {
   "cell_type": "code",
   "execution_count": 12,
   "metadata": {},
   "outputs": [
    {
     "name": "stdout",
     "output_type": "stream",
     "text": [
      "On branch master\n",
      "Changes not staged for commit:\n",
      "  (use \"git add <file>...\" to update what will be committed)\n",
      "  (use \"git restore <file>...\" to discard changes in working directory)\n",
      "\tmodified:   data/test.csv\n",
      "\tmodified:   data/train.csv\n",
      "\tmodified:   data/validation.csv\n",
      "\n",
      "Untracked files:\n",
      "  (use \"git add <file>...\" to include in what will be committed)\n",
      "\t.dvc/\n",
      "\t.dvcignore\n",
      "\tprepare.ipynb\n",
      "\ttrain.ipynb\n",
      "\n",
      "no changes added to commit (use \"git add\" and/or \"git commit -a\")\n"
     ]
    }
   ],
   "source": [
    "!git status"
   ]
  },
  {
   "cell_type": "code",
   "execution_count": 13,
   "metadata": {},
   "outputs": [],
   "source": [
    "# !git add \"E:\\Post Graduation\\Semester 4\\Applied Machine Learning\\Assignments\\Assignment 2\\data\\emails.csv\" \"E:\\Post Graduation\\Semester 4\\Applied Machine Learning\\Assignments\\Assignment 2\\data\\\\train.csv\" \"E:\\Post Graduation\\Semester 4\\Applied Machine Learning\\Assignments\\Assignment 2\\data\\\\validation.csv\" \"E:\\Post Graduation\\Semester 4\\Applied Machine Learning\\Assignments\\Assignment 2\\data\\\\test.csv\"\n",
    "!git add \".\\data\\emails.csv\" \".\\data\\\\train.csv\" \".\\data\\\\validation.csv\" \".\\data\\\\test.csv\""
   ]
  },
  {
   "cell_type": "code",
   "execution_count": 14,
   "metadata": {},
   "outputs": [
    {
     "name": "stdout",
     "output_type": "stream",
     "text": [
      "[master aea2c1c] Updated split dataset with random state 21\n",
      " 3 files changed, 5671 insertions(+), 5671 deletions(-)\n",
      " rewrite data/test.csv (70%)\n",
      " rewrite data/validation.csv (71%)\n"
     ]
    }
   ],
   "source": [
    "!git commit -m \"Updated split dataset with random state 21\""
   ]
  },
  {
   "cell_type": "code",
   "execution_count": 15,
   "metadata": {},
   "outputs": [
    {
     "name": "stdout",
     "output_type": "stream",
     "text": [
      "aea2c1c Updated split dataset with random state 21\n",
      "39c7f28 Add raw data, train, test and validation data after splitting\n"
     ]
    }
   ],
   "source": [
    "!git log --oneline --all"
   ]
  },
  {
   "cell_type": "markdown",
   "metadata": {},
   "source": [
    "### Target distribution"
   ]
  },
  {
   "cell_type": "code",
   "execution_count": 22,
   "metadata": {},
   "outputs": [
    {
     "name": "stderr",
     "output_type": "stream",
     "text": [
      "Note: switching to '39c7f28'.\n",
      "\n",
      "You are in 'detached HEAD' state. You can look around, make experimental\n",
      "changes and commit them, and you can discard any commits you make in this\n",
      "state without impacting any branches by switching back to a branch.\n",
      "\n",
      "If you want to create a new branch to retain commits you create, you may\n",
      "do so (now or later) by using -c with the switch command. Example:\n",
      "\n",
      "  git switch -c <new-branch-name>\n",
      "\n",
      "Or undo this operation with:\n",
      "\n",
      "  git switch -\n",
      "\n",
      "Turn off this advice by setting config variable advice.detachedHead to false\n",
      "\n",
      "HEAD is now at 39c7f28 Add raw data, train, test and validation data after splitting\n"
     ]
    }
   ],
   "source": [
    "!git checkout 39c7f28"
   ]
  },
  {
   "cell_type": "code",
   "execution_count": 23,
   "metadata": {},
   "outputs": [],
   "source": [
    "train_data = pd.read_csv('data/train.csv')\n",
    "validation_data = pd.read_csv('data/validation.csv')\n",
    "test_data = pd.read_csv('data/test.csv')"
   ]
  },
  {
   "cell_type": "code",
   "execution_count": 24,
   "metadata": {},
   "outputs": [
    {
     "name": "stdout",
     "output_type": "stream",
     "text": [
      "+-----------------+------+-----+\n",
      "| Dataset         | 0s   | 1s  |\n",
      "+-----------------+------+-----+\n",
      "| Training data   | 2797 | 868 |\n",
      "| Validation data | 707  | 210 |\n",
      "| Test data       | 856  | 290 |\n",
      "+-----------------+------+-----+\n"
     ]
    }
   ],
   "source": [
    "data = [\n",
    "    [\"Dataset\", \"0s\", \"1s\"],\n",
    "    [\"Training data\", sum(train_data['spam'] == 0), sum(train_data['spam'] == 1)],\n",
    "    [\"Validation data\", sum(validation_data['spam'] == 0), sum(validation_data['spam'] == 1)],\n",
    "    [\"Test data\", sum(test_data['spam'] == 0), sum(test_data['spam'] == 1)]\n",
    "]\n",
    "\n",
    "# Create a PrettyTable instance\n",
    "table = PrettyTable(data[0])\n",
    "\n",
    "# Add rows to the table\n",
    "for row in data[1:]:\n",
    "    table.add_row(row)\n",
    "\n",
    "# Set the alignment of columns\n",
    "for field in data[0]:\n",
    "    table.align[field] = 'l'\n",
    "\n",
    "# Print the table\n",
    "print(table)"
   ]
  },
  {
   "cell_type": "code",
   "execution_count": 25,
   "metadata": {},
   "outputs": [
    {
     "name": "stderr",
     "output_type": "stream",
     "text": [
      "Previous HEAD position was 39c7f28 Add raw data, train, test and validation data after splitting\n",
      "HEAD is now at aea2c1c Updated split dataset with random state 21\n"
     ]
    }
   ],
   "source": [
    "!git checkout aea2c1c"
   ]
  },
  {
   "cell_type": "code",
   "execution_count": 26,
   "metadata": {},
   "outputs": [],
   "source": [
    "train_data = pd.read_csv('data/train.csv')\n",
    "validation_data = pd.read_csv('data/validation.csv')\n",
    "test_data = pd.read_csv('data/test.csv')"
   ]
  },
  {
   "cell_type": "code",
   "execution_count": 27,
   "metadata": {},
   "outputs": [
    {
     "name": "stdout",
     "output_type": "stream",
     "text": [
      "+-----------------+------+-----+\n",
      "| Dataset         | 0s   | 1s  |\n",
      "+-----------------+------+-----+\n",
      "| Training data   | 2785 | 880 |\n",
      "| Validation data | 706  | 211 |\n",
      "| Test data       | 869  | 277 |\n",
      "+-----------------+------+-----+\n"
     ]
    }
   ],
   "source": [
    "data = [\n",
    "    [\"Dataset\", \"0s\", \"1s\"],\n",
    "    [\"Training data\", sum(train_data['spam'] == 0), sum(train_data['spam'] == 1)],\n",
    "    [\"Validation data\", sum(validation_data['spam'] == 0), sum(validation_data['spam'] == 1)],\n",
    "    [\"Test data\", sum(test_data['spam'] == 0), sum(test_data['spam'] == 1)]\n",
    "]\n",
    "\n",
    "# Create a PrettyTable instance\n",
    "table = PrettyTable(data[0])\n",
    "\n",
    "# Add rows to the table\n",
    "for row in data[1:]:\n",
    "    table.add_row(row)\n",
    "\n",
    "# Set the alignment of columns\n",
    "for field in data[0]:\n",
    "    table.align[field] = 'l'\n",
    "\n",
    "# Print the table\n",
    "print(table)"
   ]
  }
 ],
 "metadata": {
  "kernelspec": {
   "display_name": "cmi",
   "language": "python",
   "name": "python3"
  },
  "language_info": {
   "codemirror_mode": {
    "name": "ipython",
    "version": 3
   },
   "file_extension": ".py",
   "mimetype": "text/x-python",
   "name": "python",
   "nbconvert_exporter": "python",
   "pygments_lexer": "ipython3",
   "version": "3.10.11"
  }
 },
 "nbformat": 4,
 "nbformat_minor": 2
}
